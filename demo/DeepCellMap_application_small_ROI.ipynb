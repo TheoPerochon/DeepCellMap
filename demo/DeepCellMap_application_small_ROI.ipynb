{
 "cells": [
  {
   "cell_type": "markdown",
   "metadata": {},
   "source": [
    "<img src=\"Images/cover_readme.png\" alt=\"Example Image\" style=\"width:1400px; height:400px;\" >\n",
    "\n",
    "---\n",
    "# **DeepCellMap - ROI definition**\n",
    "---\n",
    "\n",
    "<b>The notebook can be used to manually define regions of interest in the tissue.</b>\n",
    "\n",
    "- 1. Manual ROI segmentation\n",
    "- 2. ROI definition by its coordinates\n",
    "\n",
    "Once a region of interest has been defined. It is reconstructed using the procedure described in C in the following figure.\n",
    "\n",
    "<img src=\"Images/process_reconstruction.png\" alt=\"Example Image\" style=\"width:900px; height:800px;\" >\n"
   ]
  },
  {
   "cell_type": "code",
   "execution_count": 1,
   "metadata": {},
   "outputs": [],
   "source": [
    "%precision 2\n",
    "%load_ext autoreload\n",
    "%autoreload 2\n",
    "\n",
    "import sys\n",
    "# This imports your common setup code from grabber.py\n",
    "sys.path.append('../')\n",
    "from grabber import * \n",
    "import os\n",
    "import numpy as np \n",
    "import matplotlib\n",
    "import matplotlib.pyplot as plt\n",
    "\n",
    "from simple_colors import *\n",
    "from python_files.util import *\n",
    "import json\n",
    "from python_files.const import *\n",
    "from python_files import filter\n",
    "from python_files import slide\n",
    "from python_files import tiles\n",
    "from python_files import deep_cell_map\n",
    "from python_files.segmentation import ModelSegmentation\n",
    "# from ipyannotations.images import PolygonAnnotator\n",
    "\n",
    "from shapely.geometry import Polygon\n",
    "import matplotlib.pyplot as plt\n",
    "from python_files import region_of_interest\n",
    "import skimage.morphology as sk_morphology\n",
    "\n",
    "\n",
    "%matplotlib inline "
   ]
  },
  {
   "cell_type": "code",
   "execution_count": 2,
   "metadata": {},
   "outputs": [],
   "source": [
    "# Loading the parameters that allow the figures to be generated and saved (because in this notebook the regions of interest are of reasonable size)\n",
    "\n",
    "with open(\"../config_without_figures.json\", \"r\") as config_file:\n",
    "    config_data = json.load(config_file)\n",
    "\n",
    "param_config_rois_reconstruction = config_data[\"param_config_rois_reconstruction\"]\n",
    "param_colocalisation = config_data[\"param_colocalisation\"]\n",
    "param_dbscan_cluster_analysis = config_data[\"param_dbscan_cluster_analysis\"]"
   ]
  },
  {
   "cell_type": "markdown",
   "metadata": {},
   "source": [
    "---\n",
    "## **1. Manual ROI segmentation** \n",
    "---\n",
    "\n",
    "Documentation -> https://ipyannotations.readthedocs.io/en/latest/introduction.html \n",
    "\n",
    "\n",
    "**Note: to draw a region of interest, click on points in the image. To validate the region, validate the drawing by clicking on the orange circle at the base of the segmentation (don't hesitate to increase the size of the circle using the 'point size' slider), then click on 'Submit' and go to the next cell.**"
   ]
  },
  {
   "cell_type": "code",
   "execution_count": 10,
   "metadata": {},
   "outputs": [
    {
     "ename": "NameError",
     "evalue": "name 'PolygonAnnotator' is not defined",
     "output_type": "error",
     "traceback": [
      "\u001b[0;31m---------------------------------------------------------------------------\u001b[0m",
      "\u001b[0;31mNameError\u001b[0m                                 Traceback (most recent call last)",
      "\u001b[1;32m/Users/U1029063/Documents/ens_project/Code/notebooks/IHC_microglia_notebooks/DeepCellMapV1_ROI_definition.ipynb Cellule 5\u001b[0m line \u001b[0;36m4\n\u001b[1;32m      <a href='vscode-notebook-cell:/Users/U1029063/Documents/ens_project/Code/notebooks/IHC_microglia_notebooks/DeepCellMapV1_ROI_definition.ipynb#W4sZmlsZQ%3D%3D?line=1'>2</a>\u001b[0m slide_num \u001b[39m=\u001b[39m \u001b[39m1\u001b[39m \n\u001b[1;32m      <a href='vscode-notebook-cell:/Users/U1029063/Documents/ens_project/Code/notebooks/IHC_microglia_notebooks/DeepCellMapV1_ROI_definition.ipynb#W4sZmlsZQ%3D%3D?line=2'>3</a>\u001b[0m \u001b[39m# Manual segmentation \u001b[39;00m\n\u001b[0;32m----> <a href='vscode-notebook-cell:/Users/U1029063/Documents/ens_project/Code/notebooks/IHC_microglia_notebooks/DeepCellMapV1_ROI_definition.ipynb#W4sZmlsZQ%3D%3D?line=3'>4</a>\u001b[0m annotation \u001b[39m=\u001b[39m PolygonAnnotator(options\u001b[39m=\u001b[39m [\u001b[39m\"\u001b[39m\u001b[39mmanually_segmented\u001b[39m\u001b[39m\"\u001b[39m],canvas_size \u001b[39m=\u001b[39m (\u001b[39m1200\u001b[39m,\u001b[39m900\u001b[39m))\n\u001b[1;32m      <a href='vscode-notebook-cell:/Users/U1029063/Documents/ens_project/Code/notebooks/IHC_microglia_notebooks/DeepCellMapV1_ROI_definition.ipynb#W4sZmlsZQ%3D%3D?line=4'>5</a>\u001b[0m annotation\u001b[39m.\u001b[39mdisplay(slide\u001b[39m.\u001b[39mget_training_image_path(slide_num))\n\u001b[1;32m      <a href='vscode-notebook-cell:/Users/U1029063/Documents/ens_project/Code/notebooks/IHC_microglia_notebooks/DeepCellMapV1_ROI_definition.ipynb#W4sZmlsZQ%3D%3D?line=5'>6</a>\u001b[0m annotation\n",
      "\u001b[0;31mNameError\u001b[0m: name 'PolygonAnnotator' is not defined"
     ]
    }
   ],
   "source": [
    "# Selection of an image number \n",
    "slide_num = 1 \n",
    "# Manual segmentation \n",
    "annotation = PolygonAnnotator(options= [\"manually_segmented\"],canvas_size = (1200,900))\n",
    "annotation.display(slide.get_training_image_path(slide_num))\n",
    "annotation\n"
   ]
  },
  {
   "cell_type": "markdown",
   "metadata": {},
   "source": [
    "---\n",
    "### Saving the characteristics of the king and the mask delimiting its outline\n",
    "---"
   ]
  },
  {
   "cell_type": "code",
   "execution_count": null,
   "metadata": {},
   "outputs": [],
   "source": [
    "roi,dict_manually_segmented_roi = region_of_interest.create_dict_roi_from_annotation(slide_num, annotation)"
   ]
  },
  {
   "cell_type": "markdown",
   "metadata": {},
   "source": [
    "----\n",
    "## **2. ROI definition by its coordinates**\n",
    "----\n",
    "\n",
    "To select a ROI in the tissue at a given time and apply DeepCellMap to it, open the file root/info_images.html, click on the image of interest showing the tiles, and choose the coordinates of the tiles at the top left (origin_row, origin_col) and bottom right (end_row, end_col) of the chosen ROI. Then enter the coordinates in the ROI dictionary below."
   ]
  },
  {
   "cell_type": "markdown",
   "metadata": {},
   "source": [
    "### 1. Definition of several ROIs"
   ]
  },
  {
   "cell_type": "code",
   "execution_count": 8,
   "metadata": {},
   "outputs": [],
   "source": [
    "ROIS = dict()\n",
    "# ROIS[\"17_pcw\"] = dict({\n",
    "#     \"slide_num\": 1,\n",
    "#     \"origin_row\": 16,\n",
    "#     \"origin_col\": 34,\n",
    "#     \"end_row\": 19,\n",
    "#     \"end_col\": 38,\n",
    "#     \"physiological_part\" : None,\n",
    "#     \"square_size_if_square_roi\" : None,\n",
    "#     \"group_for_comparison\": [6],\n",
    "# })\n",
    "# ROIS = dict()\n",
    "# ROIS[\"17_pcw\"] = dict({\n",
    "#     \"slide_num\": 1,\n",
    "#     \"origin_row\": 19,\n",
    "#     \"origin_col\": 28,\n",
    "#     \"end_row\": 31,\n",
    "#     \"end_col\": 49,\n",
    "#     \"physiological_part\" : None,\n",
    "#     \"square_size_if_square_roi\" : None,\n",
    "#     \"group_for_comparison\": [6],\n",
    "# })\n",
    "# ROIS[\"17_pcw\"] = dict({\n",
    "#     \"slide_num\": 1,\n",
    "#     \"origin_row\": 42,\n",
    "#     \"origin_col\": 53,\n",
    "#     \"end_row\": 45,\n",
    "#     \"end_col\": 80,\n",
    "#     \"physiological_part\" : None,\n",
    "#     \"square_size_if_square_roi\" : None,\n",
    "#     \"group_for_comparison\": [6],\n",
    "# })\n",
    "ROIS[\"17_pcw\"] = dict({\n",
    "    \"slide_num\": 1,\n",
    "    \"origin_row\": 42,\n",
    "    \"origin_col\": 53,\n",
    "    \"end_row\": 43,\n",
    "    \"end_col\": 54,\n",
    "    \"physiological_part\" : None,\n",
    "    \"square_size_if_square_roi\" : None,\n",
    "    \"group_for_comparison\": [6],\n",
    "})\n",
    "# ROIS[\"19_pcw\"] = dict({\n",
    "#     \"slide_num\": 2,\n",
    "#     \"origin_row\": 39,\n",
    "#     \"origin_col\": 65,\n",
    "#     \"end_row\": 43,\n",
    "#     \"end_col\": 70,\n",
    "#     \"physiological_part\" : None,\n",
    "#     \"square_size_if_square_roi\" : None,\n",
    "#     \"group_for_comparison\": [6],\n",
    "# })\n",
    "# ROIS[\"20_pcw\"] = dict({\n",
    "#     \"slide_num\": 3,\n",
    "#     \"origin_row\": 40,\n",
    "#     \"origin_col\": 51,\n",
    "#     \"end_row\": 43,\n",
    "#     \"end_col\": 60,\n",
    "#     \"physiological_part\" : None,\n",
    "#     \"square_size_if_square_roi\" : None,\n",
    "#     \"group_for_comparison\": [6],\n",
    "# })\n",
    "# ROIS[\"20_pcw\"] = dict({\n",
    "#     \"slide_num\": 3,\n",
    "#     \"origin_row\": 53,\n",
    "#     \"origin_col\": 38,\n",
    "#     \"end_row\": 57,\n",
    "#     \"end_col\": 42,\n",
    "#     \"physiological_part\" : None,\n",
    "#     \"square_size_if_square_roi\" : None,\n",
    "#     \"group_for_comparison\": [6],\n",
    "# })\n",
    "\n",
    "#3e bloch de neocortex 19 pcw \n",
    "# ROIS[\"19_pcw\"] = dict({\n",
    "#     \"slide_num\": 2,\n",
    "#     \"origin_row\": 34,\n",
    "#     \"origin_col\": 17,\n",
    "#     \"end_row\": 64,\n",
    "#     \"end_col\": 56,\n",
    "#     \"physiological_part\" : None,\n",
    "#     \"square_size_if_square_roi\" : None,\n",
    "#     \"group_for_comparison\": [6],\n",
    "# })\n",
    "liste_roi_to_add = list(ROIS.keys())\n",
    "dict_roi = ROIS"
   ]
  },
  {
   "cell_type": "markdown",
   "metadata": {},
   "source": [
    "---\n",
    "## **2. DeepCellMap pipeline application for several ROIs**\n",
    "---"
   ]
  },
  {
   "cell_type": "code",
   "execution_count": 9,
   "metadata": {},
   "outputs": [
    {
     "data": {
      "text/plain": [
       "202.50"
      ]
     },
     "execution_count": 9,
     "metadata": {},
     "output_type": "execute_result"
    }
   ],
   "source": []
  },
  {
   "cell_type": "code",
   "execution_count": null,
   "metadata": {},
   "outputs": [],
   "source": [
    "deep_cell_map.apply_DeepCellMap_to_roi_list(liste_roi_to_add,dict_roi,param_config_rois_reconstruction,param_colocalisation,param_dbscan_cluster_analysis)"
   ]
  },
  {
   "cell_type": "code",
   "execution_count": 6,
   "metadata": {},
   "outputs": [
    {
     "name": "stdout",
     "output_type": "stream",
     "text": [
      "Computing DeepCellMap on subregion n°1/1\n",
      "[Python files]\n",
      "Slide, Origin Row, Origin Column,End Row, End Column : 1 42 53 45 80\n",
      "\u001b[33mGeneration of examples of cells of each morphology\u001b[0m\n",
      "path_temporal_analysis_csv /Users/U1029063/Documents/ens_project/microglial_cells_project/6_Spatiotemporal_analysis/df_slides.csv\n",
      "Construction du dataframe lié à la ROI\n",
      "\u001b[33mComputing cell-cell colocalisation\u001b[0m\n",
      "Go calculer la coloc \n",
      "Computing coloc analysis from python files\n",
      "\u001b[33mComputing dbscan-based clusters analysis results \u001b[0m\n",
      "PB take the wrong one \n",
      "liste_eps =  [100, 200, 300, 400, 500, 600, 800, 1000, 1200, 1400, 1600, 1800, 2000, 2200, 2400, 2600, 2800, 3000]\n",
      "save_data =  True\n",
      "\u001b[33mComputing Cell-Region's border results\u001b[0m\n",
      "let's go computatio with correction\n",
      "df saved at , /Users/U1029063/Documents/ens_project/microglial_cells_project/5_Region_of_interest/slide_1_17_pcw/s001-ro042-co053-re045-ce080/otsu2_based_segmentation_min_size_cell_700/Cells_classification_by_best_model/3_Cell_border_colocalisation/levelsets_0_100_200_300_400_500_600_700_800_900_1000_1100_1200_1300_1400_1500_1600_1700_1800_1900_2000_2100/nb_cells_B.csv\n",
      "\u001b[33mComputing neighbors analysis results\u001b[0m\n",
      "La neighbours analysis va être calculée\n"
     ]
    }
   ],
   "source": [
    "deep_cell_map.apply_DeepCellMap_to_roi_list(liste_roi_to_add,dict_roi,param_config_rois_reconstruction,param_colocalisation,param_dbscan_cluster_analysis)"
   ]
  },
  {
   "cell_type": "code",
   "execution_count": 7,
   "metadata": {},
   "outputs": [
    {
     "ename": "NameError",
     "evalue": "name 'df_colocalisation_omega_level_proba_corrected' is not defined",
     "output_type": "error",
     "traceback": [
      "\u001b[0;31m---------------------------------------------------------------------------\u001b[0m",
      "\u001b[0;31mNameError\u001b[0m                                 Traceback (most recent call last)",
      "\u001b[1;32m/Users/U1029063/Documents/ens_project/Code/notebooks/IHC_microglia_notebooks/DeepCellMapV1_ROI_definition.ipynb Cellule 13\u001b[0m line \u001b[0;36m1\n\u001b[0;32m----> <a href='vscode-notebook-cell:/Users/U1029063/Documents/ens_project/Code/notebooks/IHC_microglia_notebooks/DeepCellMapV1_ROI_definition.ipynb#X15sZmlsZQ%3D%3D?line=0'>1</a>\u001b[0m df_colocalisation_omega_level_proba_corrected[:\u001b[39m5\u001b[39m]\n\u001b[1;32m      <a href='vscode-notebook-cell:/Users/U1029063/Documents/ens_project/Code/notebooks/IHC_microglia_notebooks/DeepCellMapV1_ROI_definition.ipynb#X15sZmlsZQ%3D%3D?line=2'>3</a>\u001b[0m \u001b[39m# M -> m_a -> aire du levelset \u001b[39;00m\n\u001b[1;32m      <a href='vscode-notebook-cell:/Users/U1029063/Documents/ens_project/Code/notebooks/IHC_microglia_notebooks/DeepCellMapV1_ROI_definition.ipynb#X15sZmlsZQ%3D%3D?line=3'>4</a>\u001b[0m \u001b[39m# mt -> mt_a = m_a * n_cells / omega \u001b[39;00m\n",
      "\u001b[0;31mNameError\u001b[0m: name 'df_colocalisation_omega_level_proba_corrected' is not defined"
     ]
    }
   ],
   "source": [
    "df_colocalisation_omega_level_proba_corrected[:5]\n",
    "\n",
    "# M -> m_a -> aire du levelset \n",
    "# mt -> mt_a = m_a * n_cells / omega "
   ]
  },
  {
   "cell_type": "markdown",
   "metadata": {},
   "source": [
    "# Pour appliquer la correction dans l'ancien DCP \n",
    "\n",
    "def compute_colocalisation(RegionOf\n",
    "\n"
   ]
  },
  {
   "cell_type": "markdown",
   "metadata": {},
   "source": [
    "## Gathering information in a single dataframe"
   ]
  },
  {
   "cell_type": "code",
   "execution_count": null,
   "metadata": {},
   "outputs": [],
   "source": [
    "roi_analysis, path_temporal_analysis_csv = deep_cell_map.load_enrich_roi_analysis(liste_roi_to_add,dict_roi = dict_roi)"
   ]
  },
  {
   "cell_type": "markdown",
   "metadata": {},
   "source": [
    "**The dataframe is now ready to be analysed using the display functions in the display_statistics.py file.**"
   ]
  },
  {
   "cell_type": "code",
   "execution_count": null,
   "metadata": {},
   "outputs": [],
   "source": []
  },
  {
   "cell_type": "code",
   "execution_count": null,
   "metadata": {},
   "outputs": [],
   "source": []
  },
  {
   "cell_type": "code",
   "execution_count": 41,
   "metadata": {},
   "outputs": [
    {
     "name": "stdout",
     "output_type": "stream",
     "text": [
      "Class Proliferative: Precision = 0.85, Recall = 0.88, F1-Score = 0.87\n",
      "Class Amoeboid: Precision = 0.85, Recall = 0.83, F1-Score = 0.84\n",
      "Class Aggregated: Precision = 0.83, Recall = 0.91, F1-Score = 0.87\n",
      "Class Phagocytic: Precision = 0.75, Recall = 0.68, F1-Score = 0.71\n",
      "Class Ramified: Precision = 0.75, Recall = 0.78, F1-Score = 0.77\n",
      "Macro-averaged F1 Score: 0.81\n"
     ]
    }
   ],
   "source": [
    "import numpy as np\n",
    "\n",
    "# Example confusion matrix for 5 cell types\n",
    "# Rows: Actual classes\n",
    "# Columns: Predicted classes\n",
    "confusion_matrix = np.array([[23,3,0,0,0],[2,34,0,3,2],[0,0,10,1,0],[0,1,2,15,4],[2,2,0,1,18]])\n",
    "list_states = [\"Proliferative\",'Amoeboid', 'Aggregated', 'Phagocytic', 'Ramified']\n",
    "# Number of classes\n",
    "num_classes = confusion_matrix.shape[0]\n",
    "\n",
    "# Initialize lists to store precision, recall, and F1 scores for each class\n",
    "precision_list = []\n",
    "recall_list = []\n",
    "f1_list = []\n",
    "\n",
    "# Compute metrics for each class\n",
    "for i in range(num_classes):\n",
    "    # True Positives for class i\n",
    "    tp = confusion_matrix[i, i]\n",
    "    \n",
    "    # False Positives for class i: Sum of column i (excluding tp)\n",
    "    fp = confusion_matrix[:, i].sum() - tp\n",
    "    \n",
    "    # False Negatives for class i: Sum of row i (excluding tp)\n",
    "    fn = confusion_matrix[i, :].sum() - tp\n",
    "    \n",
    "    # Precision\n",
    "    precision = tp / (tp + fp) if (tp + fp) > 0 else 0\n",
    "    precision_list.append(precision)\n",
    "    \n",
    "    # Recall\n",
    "    recall = tp / (tp + fn) if (tp + fn) > 0 else 0\n",
    "    recall_list.append(recall)\n",
    "    \n",
    "    # F1 Score\n",
    "    f1 = 2 * (precision * recall) / (precision + recall) if (precision + recall) > 0 else 0\n",
    "    f1_list.append(f1)\n",
    "\n",
    "# Convert to numpy arrays for better visualization (optional)\n",
    "precision_array = np.array(precision_list)\n",
    "recall_array = np.array(recall_list)\n",
    "f1_array = np.array(f1_list)\n",
    "\n",
    "# Print the results for each class\n",
    "for i, name in enumerate(list_states):\n",
    "    print(f\"Class {name}: Precision = {precision_array[i]:.2f}, Recall = {recall_array[i]:.2f}, F1-Score = {f1_array[i]:.2f}\")\n",
    "print(f\"Macro-averaged F1 Score: {macro_f1:.2f}\")"
   ]
  },
  {
   "cell_type": "code",
   "execution_count": 40,
   "metadata": {},
   "outputs": [
    {
     "data": {
      "text/plain": [
       "0.81"
      ]
     },
     "execution_count": 40,
     "metadata": {},
     "output_type": "execute_result"
    }
   ],
   "source": [
    "np.diag(confusion_matrix).sum()/np.sum(confusion_matrix)\n"
   ]
  },
  {
   "cell_type": "code",
   "execution_count": 38,
   "metadata": {},
   "outputs": [
    {
     "name": "stdout",
     "output_type": "stream",
     "text": [
      "Macro-averaged F1 Score: 0.81\n",
      "Weighted-averaged F1 Score: 0.81\n"
     ]
    }
   ],
   "source": [
    "import numpy as np\n",
    "\n",
    "# Confusion matrix\n",
    "confusion_matrix = np.array([\n",
    "    [23, 3, 0, 0, 0],  # Proliferative\n",
    "    [2, 34, 0, 3, 2],  # Amoeboid\n",
    "    [0, 0, 10, 1, 0],  # Aggregated\n",
    "    [0, 1, 2, 15, 4],  # Phagocytic\n",
    "    [2, 2, 0, 1, 18]   # Ramified\n",
    "])\n",
    "\n",
    "# Function to compute precision, recall, and F1 for a given class\n",
    "def compute_metrics(conf_matrix, class_idx):\n",
    "    tp = conf_matrix[class_idx, class_idx]  # True Positives\n",
    "    fp = conf_matrix[:, class_idx].sum() - tp  # False Positives\n",
    "    fn = conf_matrix[class_idx, :].sum() - tp  # False Negatives\n",
    "    \n",
    "    precision = tp / (tp + fp) if (tp + fp) > 0 else 0\n",
    "    recall = tp / (tp + fn) if (tp + fn) > 0 else 0\n",
    "    f1 = 2 * (precision * recall) / (precision + recall) if (precision + recall) > 0 else 0\n",
    "    \n",
    "    return precision, recall, f1\n",
    "\n",
    "# Compute F1 score for each class\n",
    "f1_scores = []\n",
    "support = []  # To store the actual number of instances for weighted average\n",
    "\n",
    "for i in range(len(confusion_matrix)):\n",
    "    _, _, f1 = compute_metrics(confusion_matrix, i)\n",
    "    f1_scores.append(f1)\n",
    "    \n",
    "    # Support is the total number of true instances for this class (sum of the row)\n",
    "    support.append(confusion_matrix[i, :].sum())\n",
    "\n",
    "# Convert to numpy arrays\n",
    "f1_scores = np.array(f1_scores)\n",
    "support = np.array(support)\n",
    "\n",
    "# Macro-averaged F1 (simple mean of F1 scores)\n",
    "macro_f1 = f1_scores.mean()\n",
    "\n",
    "# Weighted-averaged F1 (weighted by support)\n",
    "weighted_f1 = np.average(f1_scores, weights=support)\n",
    "\n",
    "# Print results\n",
    "print(f\"Macro-averaged F1 Score: {macro_f1:.2f}\")\n",
    "print(f\"Weighted-averaged F1 Score: {weighted_f1:.2f}\")\n"
   ]
  },
  {
   "cell_type": "code",
   "execution_count": null,
   "metadata": {},
   "outputs": [],
   "source": [
    "import numpy as np\n",
    "\n",
    "# Confusion matrix for 5 classes\n",
    "# Assume the classes correspond to the following:\n",
    "# Class 1 = Proliferative, Class 2 = Amoeboid, Class 3 = Ramified, Class 4 = Phagocytic, Class 5 = Other\n",
    "confusion_matrix = np.array([\n",
    "    [50, 10, 0, 0, 1],  # Proliferative (actual class 1)\n",
    "    [5, 45, 3, 0, 0],   # Amoeboid (actual class 2)\n",
    "    [0, 4, 40, 5, 1],   # Ramified (actual class 3)\n",
    "    [0, 0, 6, 35, 2],   # Phagocytic (actual class 4)\n",
    "    [2, 1, 1, 3, 48]    # Other (actual class 5)\n",
    "])\n",
    "\n",
    "# Function to compute precision, recall, and F1 for a given class\n",
    "def compute_metrics(conf_matrix, class_idx):\n",
    "    tp = conf_matrix[class_idx, class_idx]  # True Positives for the class\n",
    "    fp = conf_matrix[:, class_idx].sum() - tp  # False Positives\n",
    "    fn = conf_matrix[class_idx, :].sum() - tp  # False Negatives\n",
    "    \n",
    "    precision = tp / (tp + fp) if (tp + fp) > 0 else 0\n",
    "    recall = tp / (tp + fn) if (tp + fn) > 0 else 0\n",
    "    f1 = 2 * (precision * recall) / (precision + recall) if (precision + recall) > 0 else 0\n",
    "    \n",
    "    return precision, recall, f1\n",
    "\n",
    "# Extract metrics for the Proliferative vs Amoeboid pair (class 1 vs class 2)\n",
    "precision_prolif, recall_prolif, f1_prolif = compute_metrics(confusion_matrix, 0)  # Proliferative\n",
    "precision_amoeboid, recall_amoeboid, f1_amoeboid = compute_metrics(confusion_matrix, 1)  # Amoeboid\n",
    "\n",
    "# Extract metrics for the Ramified vs Phagocytic pair (class 3 vs class 4)\n",
    "precision_ramified, recall_ramified, f1_ramified = compute_metrics(confusion_matrix, 2)  # Ramified\n",
    "precision_phagocytic, recall_phagocytic, f1_phagocytic = compute_metrics(confusion_matrix, 3)  # Phagocytic\n",
    "\n",
    "# Results\n",
    "print(f\"Proliferative vs Amoeboid classification: recall of {recall_prolif:.2f}, precision of {precision_prolif:.2f}, and F1 = {f1_prolif:.2f}\")\n",
    "print(f\"Ramified vs Phagocytic classification: recall of {recall_ramified:.2f}, precision of {precision_ramified:.2f}, and F1 = {f1_ramified:.2f}\")\n"
   ]
  }
 ],
 "metadata": {
  "kernelspec": {
   "display_name": "base",
   "language": "python",
   "name": "python3"
  },
  "language_info": {
   "codemirror_mode": {
    "name": "ipython",
    "version": 3
   },
   "file_extension": ".py",
   "mimetype": "text/x-python",
   "name": "python",
   "nbconvert_exporter": "python",
   "pygments_lexer": "ipython3",
   "version": "3.12.3"
  },
  "orig_nbformat": 4
 },
 "nbformat": 4,
 "nbformat_minor": 2
}
