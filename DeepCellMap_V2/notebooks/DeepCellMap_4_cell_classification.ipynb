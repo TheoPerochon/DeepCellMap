{
 "cells": [
  {
   "attachments": {},
   "cell_type": "markdown",
   "metadata": {},
   "source": [
    "<img src=\"Images/cover_readme.png\" alt=\"Example Image\" style=\"width:1400px; height:400px;\" >"
   ]
  },
  {
   "attachments": {},
   "cell_type": "markdown",
   "metadata": {},
   "source": [
    "--- \n",
    "# **DeepCellMap 1 - Cells segmentation & classification**\n",
    "---\n",
    "\n",
    "<b>In this notebook</b>\n",
    "\n",
    "**1. Cells segmentation & classification on the entire image**\n",
    "\n",
    "*Note : The algorithms of this notebook are detailed in figures S2.A and S3 of the online method of the article.*"
   ]
  },
  {
   "cell_type": "code",
   "execution_count": null,
   "metadata": {},
   "outputs": [],
   "source": [
    "# This imports your common setup code from grabber.py\n",
    "from grabber import * \n",
    "%precision 2\n",
    "%load_ext autoreload\n",
    "%autoreload 2 \n",
    "\n",
    "# import pandas as pd\n",
    "\n",
    "from config.dataset_management import take_config_from_dataset\n",
    "\n",
    "from utils.util import *\n",
    "from utils.util_fig_display import *\n",
    "from utils.util_colors_drawing import *\n",
    "\n",
    "from preprocessing import filter, slide, tiles\n",
    "\n",
    "from stat_analysis import deep_cell_map\n",
    "from segmentation_classification import segmentation,classification\n",
    "from segmentation_classification.classification import ModelClassification, segment_classify_cells_wsi\n",
    "\n",
    "%matplotlib inline \n"
   ]
  },
  {
   "attachments": {},
   "cell_type": "markdown",
   "metadata": {},
   "source": [
    "## Dataset selection "
   ]
  },
  {
   "cell_type": "code",
   "execution_count": null,
   "metadata": {},
   "outputs": [],
   "source": [
    "display(dataframe_dropdown)\n",
    "\n",
    "dataset_name = dataframe_dropdown.value"
   ]
  },
  {
   "cell_type": "code",
   "execution_count": null,
   "metadata": {},
   "outputs": [],
   "source": [
    "dataset_name = dataframe_dropdown.value\n",
    "dataset_config = take_config_from_dataset(dataset_name)\n",
    "print(blue(\"We are playing with the dataset: {}\".format(dataset_config.dataset_name)))\n"
   ]
  },
  {
   "attachments": {},
   "cell_type": "markdown",
   "metadata": {},
   "source": [
    "---\n",
    "# 1. Cells segmentation & classification on the entire image\n",
    "---\n",
    "\n",
    "*Note :The details of this function are detailed in the figure below (from figures S2.A of the online method of the article).*\n",
    "\n",
    "<img src=\"Images/cell_segmentation_and_classification.png\" alt=\"Example Image\" style=\"width:1000px; height:400px;\" >\n"
   ]
  },
  {
   "attachments": {},
   "cell_type": "markdown",
   "metadata": {},
   "source": [
    "# A. Fluorescent Data "
   ]
  },
  {
   "attachments": {},
   "cell_type": "markdown",
   "metadata": {},
   "source": [
    "Classify cells by channels "
   ]
  },
  {
   "cell_type": "code",
   "execution_count": null,
   "metadata": {},
   "outputs": [],
   "source": [
    "particular_roi = None\n",
    "channels_cells_to_segment = None\n",
    "table_cells = classification.segment_classify_cells(1, dataset_config,particular_roi=particular_roi, channels_cells_to_segment = channels_cells_to_segment)"
   ]
  },
  {
   "attachments": {},
   "cell_type": "markdown",
   "metadata": {},
   "source": [
    "Add the cells that come from 2 fluorophores "
   ]
  },
  {
   "cell_type": "code",
   "execution_count": null,
   "metadata": {},
   "outputs": [],
   "source": [
    "table_cells = classification.segment_cells_coming_from_several_channels(1, dataset_config, particular_roi=None, cells_from_multiple_channels = None)"
   ]
  },
  {
   "attachments": {},
   "cell_type": "markdown",
   "metadata": {},
   "source": [
    "# Save results in a DataFrame "
   ]
  },
  {
   "cell_type": "code",
   "execution_count": null,
   "metadata": {},
   "outputs": [],
   "source": [
    "df = slide.get_statistics_images(dataset_config=dataset_config,image_list = image_list)"
   ]
  },
  {
   "attachments": {},
   "cell_type": "markdown",
   "metadata": {},
   "source": [
    "## B. IHC images"
   ]
  },
  {
   "cell_type": "code",
   "execution_count": null,
   "metadata": {},
   "outputs": [],
   "source": [
    "image_list = [1?2,3]\n",
    "df = slide.get_statistics_images(dataset_config=dataset_config,image_list = image_list)\n"
   ]
  },
  {
   "cell_type": "code",
   "execution_count": null,
   "metadata": {},
   "outputs": [],
   "source": [
    "df = slide.get_statistics_images(dataset_config=dataset_config,image_list = image_list)\n"
   ]
  }
 ],
 "metadata": {
  "kernelspec": {
   "display_name": "base",
   "language": "python",
   "name": "python3"
  },
  "language_info": {
   "codemirror_mode": {
    "name": "ipython",
    "version": 3
   },
   "file_extension": ".py",
   "mimetype": "text/x-python",
   "name": "python",
   "nbconvert_exporter": "python",
   "pygments_lexer": "ipython3",
   "version": "3.12.3"
  },
  "orig_nbformat": 4
 },
 "nbformat": 4,
 "nbformat_minor": 2
}
