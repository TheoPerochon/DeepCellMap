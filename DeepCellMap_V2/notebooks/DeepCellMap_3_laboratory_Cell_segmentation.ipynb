{
 "cells": [
  {
   "attachments": {},
   "cell_type": "markdown",
   "metadata": {},
   "source": [
    "<img src=\"Images/cover_readme.png\" alt=\"Example Image\" style=\"width:1400px; height:400px;\" >"
   ]
  },
  {
   "attachments": {},
   "cell_type": "markdown",
   "metadata": {},
   "source": [
    "--- \n",
    "# **DeepCellMap Laborarory - Find best cell segmentation adapted to each dataset and images**\n",
    "---\n",
    "\n",
    "Depending on the dataset and the type of data. Cell segmentation can be done using different steps. In this notebook, differents steps are tested on a bunch of tiles pre-selectionned. Results are saved and visualised thanks to an html file. "
   ]
  },
  {
   "cell_type": "code",
   "execution_count": 2,
   "metadata": {},
   "outputs": [
    {
     "name": "stdout",
     "output_type": "stream",
     "text": [
      "The autoreload extension is already loaded. To reload it, use:\n",
      "  %reload_ext autoreload\n"
     ]
    }
   ],
   "source": [
    "from grabber import *  # This imports your common setup code from grabber.py\n",
    "%precision 2\n",
    "%load_ext autoreload\n",
    "%autoreload 2\n",
    "import numpy as np\n",
    "import matplotlib.pyplot as plt\n",
    "from PIL import Image\n",
    "from tqdm import tqdm\n",
    "import os\n",
    "# from pylibCZIrw import czi as pycziDeep\n",
    "from utils.util_colors_drawing import *\n",
    "from utils.util_fig_display import *\n",
    "from utils.util import *\n",
    "from preprocessing import filter, slide, tiles\n",
    "from stat_analysis import deep_cell_map\n",
    "from segmentation_classification import segmentation\n",
    "from segmentation_classification.classification import ModelClassification, segment_classify_cells_wsi\n",
    "\n",
    "from config.datasets_config import *\n",
    "\n",
    "#temporaire \n",
    "from config.html_generation_config import HtmlGenerationConfig\n",
    "from config.dataset_management import take_config_from_dataset\n",
    "%matplotlib inline \n"
   ]
  },
  {
   "attachments": {},
   "cell_type": "markdown",
   "metadata": {},
   "source": [
    "## Dataset selection "
   ]
  },
  {
   "cell_type": "code",
   "execution_count": 3,
   "metadata": {},
   "outputs": [
    {
     "data": {
      "application/vnd.jupyter.widget-view+json": {
       "model_id": "319e1f028abb43ccbd07cf7117b4aa70",
       "version_major": 2,
       "version_minor": 0
      },
      "text/plain": [
       "Dropdown(description='Select dataset:', options={'generated_rois': 'generated_rois', 'ihc_microglia_fetal_huma…"
      ]
     },
     "metadata": {},
     "output_type": "display_data"
    }
   ],
   "source": [
    "display(dataframe_dropdown)\n",
    "dataset_name = dataframe_dropdown.value"
   ]
  },
  {
   "cell_type": "code",
   "execution_count": 9,
   "metadata": {},
   "outputs": [
    {
     "name": "stdout",
     "output_type": "stream",
     "text": [
      "\u001b[34mWe are playing with the dataset: covid_data_immunofluorescence\u001b[0m\n"
     ]
    }
   ],
   "source": [
    "dataset_name = dataframe_dropdown.value\n",
    "dataset_config = take_config_from_dataset(dataset_name)\n",
    "print(blue(\"We are playing with the dataset: {}\".format(dataset_config.dataset_name)))\n"
   ]
  },
  {
   "attachments": {},
   "cell_type": "markdown",
   "metadata": {},
   "source": [
    "# 1. Possible steps to segment cells"
   ]
  },
  {
   "cell_type": "code",
   "execution_count": 5,
   "metadata": {},
   "outputs": [],
   "source": [
    "param_best_cellpose =dataset_config.param_best_cellpose\n",
    "step_possibilities = dict({\n",
    "            \"cellpose\" : param_best_cellpose,\n",
    "\n",
    "            #Binarization steps \n",
    "            \"multi_otsu_thresholding\" :  [\"dont_consider_background\", 40],\n",
    "            \"otsu_thresholding\" : None,\n",
    "            \"manual_threshold\" : 10,\n",
    "            \"rgb_threshold_based_binarization_microglia_IHC\": None,\n",
    "\n",
    "            #Morphological operations \n",
    "            \"erosion\": 2,\n",
    "            \"dilation\" : 4,\n",
    "            \"dilation2\":3,\n",
    "            \"opening\":5,\n",
    "\n",
    "            #Other operations \n",
    "            \"fill_holes\" : None,\n",
    "            \"filter_center_cells\" : dataset_config.tile_width,\n",
    "            \"remove_small_objects\" : 150,\n",
    "            \"remove_large_objects\" : 10000,\n",
    "            \"rgb_to_eosin\" : None,\n",
    "        })"
   ]
  },
  {
   "attachments": {},
   "cell_type": "markdown",
   "metadata": {},
   "source": [
    "# 2. Definition of the different steps by channel\n",
    "\n",
    "The different cell segmentation steps can be common to all the images but can also be specified for each image.  \n",
    "\n",
    "Once a good sequence of steps works for many images, the dictionnary of the different steps can be given as value to the key *default* of the parameter **dataset_config.cell_segmentation_param_by_cannnel** \n",
    "\n",
    "**If this shared sequence of steps doesn't work for an image N**, a new sequence can be added to the dictionnary **cell_segmentation_param_by_cannnel** specifying the key as *image_N*\n",
    "\n",
    "*This is shared with the tissue segmentation method* "
   ]
  },
  {
   "cell_type": "code",
   "execution_count": 10,
   "metadata": {},
   "outputs": [],
   "source": [
    "#Define different steps of cell segmentation for each channel\n",
    "cell_segmentation_param = dict({\n",
    "    # 0: {\n",
    "    #     \"multi_otsu_thresholding\" :  [\"dont_consider_background\", 80],\n",
    "    #     \"erosion\" : 1,\n",
    "    #     \"dilation\" : 3,\n",
    "    #     \"fill_holes\" : None,\n",
    "    #     \"remove_small_objects\" : 200,\n",
    "    #     \"remove_large_objects\" : 20000,\n",
    "    #     \"dilation2\":2,\n",
    "    # },\n",
    "    1: {#R\n",
    "        # \"test_cas1__cas_2\" :  {\"dilation_test\":2, \"thresh_fraction_cells_discovered\":0.15,\"multi_otsu\":False, \"param_erosion_cas_1\":3, \"param_dil_cas_2\":0,\"min_thresh_second_binarization\":80,\"dont_consider_background\":True},\n",
    "        # \"remove_small_objects\" : 250,\n",
    "        # \"remove_large_objects\" : 10000,\n",
    "        \"multi_otsu_thresholding\" :  [None, 25],\n",
    "        \"opening\":1,\n",
    "        \"dilation\" : 2,\n",
    "        \"remove_small_objects\" : 200,\n",
    "        \"remove_large_objects\" : 10000,\n",
    "        },\n",
    "    2: {#G\n",
    "        \"multi_otsu_thresholding\" : [None,-1],\n",
    "        \"remove_small_objects\" : 250,\n",
    "        \"remove_large_objects\" : 10000,\n",
    "        },\n",
    "    3: {#B\n",
    "        \"cellpose\" : param_best_cellpose,\n",
    "\n",
    "        }\n",
    "    })\n",
    "# \"min_thresh_second_binarization\":10\n",
    "\n",
    "# cell_segmentation_param_by_cannnel = dataset_config.cell_segmentation_param_by_cannnel"
   ]
  },
  {
   "cell_type": "code",
   "execution_count": 7,
   "metadata": {},
   "outputs": [],
   "source": [
    "#IHC \n",
    "\n",
    "cell_segmentation_param = dict(\n",
    "    {\n",
    "        \"rgb_to_d\" : \"mean_channels\",\n",
    "        \"multi_otsu_thresholding\" : [None,-1],\n",
    "        \"opening\" : 2,\n",
    "        \"dilation\" : 2,\n",
    "        \"fill_holes\" : None,\n",
    "        \"remove_small_objects\": 400,\n",
    "    }\n",
    ")"
   ]
  },
  {
   "attachments": {},
   "cell_type": "markdown",
   "metadata": {},
   "source": [
    "# 3.Apply segmentation to different tiles "
   ]
  },
  {
   "cell_type": "markdown",
   "metadata": {},
   "source": []
  },
  {
   "cell_type": "code",
   "execution_count": null,
   "metadata": {},
   "outputs": [],
   "source": [
    "from_image, to_image = 0,0\n",
    "#OR \n",
    "image_list = [1]\n",
    "\n",
    "n_tiles_per_channel = 2\n",
    "channels_to_segment = [3]\n",
    "\n",
    "#Define segmentor\n",
    "cell_segmentor = segmentation.ModelSegmentation(dataset_config=dataset_config, object_to_segment = \"cells\", cell_segmentation_param=cell_segmentation_param)\n",
    "#Find tiles to test cell segmentation\n",
    "tiles_list, tiles_names  = tiles.get_tiles_to_segment(dataset_config, from_image, to_image, image_list=image_list, n_tiles_per_channel = n_tiles_per_channel,channels_to_segment = channels_to_segment)\n",
    "#Perform segmentation\n",
    "list_images_processed, list_process_names = cell_segmentor.test_cell_segmentation_from_tiles(tiles_list,tiles_names,channels_to_segment = channels_to_segment, save_html = True)\n",
    "#Save different steps of cell segmentation\n",
    "segmentation.ModelSegmentation.laboratory_segmentation_save_images(dataset_config,list_images_processed, list_process_names, segmentation_type = \"cells\",channels_to_segment=channels_to_segment,image_list=image_list)"
   ]
  },
  {
   "attachments": {},
   "cell_type": "markdown",
   "metadata": {},
   "source": [
    "# Just results of the different configurations "
   ]
  },
  {
   "cell_type": "code",
   "execution_count": 41,
   "metadata": {},
   "outputs": [
    {
     "name": "stdout",
     "output_type": "stream",
     "text": [
      "\u001b[34mHTML saved at /export/home1/users/mcbs/perochon/Documents/Projet_Microglial_cells/code/projet_ens/output/cancer_data_immunofluorescence/1_image_pre_processing/cells_filtering_laboratory/img_01/existing_config_channel_1.html\u001b[0m\n"
     ]
    }
   ],
   "source": [
    "\n",
    "n_tiles_per_channel = 5\n",
    "image_list = [2]\n",
    "channels_to_segment = [1]\n",
    "\n",
    "tiles_list, tiles_names  = tiles.get_tiles_to_segment(dataset_config, from_image, to_image, image_list=image_list, n_tiles_per_channel = n_tiles_per_channel)\n",
    "\n",
    "segmentation.test_existing_segmentation_config(dataset_config,tiles_list, tiles_names,channels_to_segment,image_list=image_list)\n",
    "\n"
   ]
  },
  {
   "attachments": {},
   "cell_type": "markdown",
   "metadata": {},
   "source": [
    "# Test existing configurations to the new image "
   ]
  },
  {
   "cell_type": "code",
   "execution_count": 12,
   "metadata": {},
   "outputs": [
    {
     "name": "stdout",
     "output_type": "stream",
     "text": [
      "default\n",
      "dict_processing_steps {0: {'multi_otsu_thresholding': ['dont_consider_background', 80], 'erosion': 1, 'dilation': 3, 'fill_holes': None, 'filter_center_cells': 1024, 'remove_small_objects': 200, 'remove_large_objects': 20000, 'dilation2': 2}, 1: {'test_cas1__cas_2': {'dilation_test': 2, 'thresh_fraction_cells_discovered': 0.15, 'multi_otsu': False, 'param_erosion_cas_1': 3, 'param_dil_cas_2': 0, 'min_thresh_second_binarization': 80, 'dont_consider_background': True}, 'filter_center_cells': 1024, 'remove_small_objects': 250, 'remove_large_objects': 10000}, 2: {'test_cas1__cas_2': {'dilation_test': 2, 'thresh_fraction_cells_discovered': 0.15, 'multi_otsu': False, 'param_erosion_cas_1': 3, 'param_dil_cas_2': 0, 'min_thresh_second_binarization': 80, 'dont_consider_background': True}, 'fill_holes': None, 'remove_small_objects': 200, 'remove_large_objects': 10000, 'filter_center_cells': 1024}, 3: {'otsu_thresholding': [None, 70], 'fill_holes': None, 'remove_small_objects': 200, 'remove_large_objects': 15000, 'filter_center_cells': 1024}}\n",
      "\u001b[34mHTML saved at /Users/theoperochon/Projet_ens/microglial_project/project_ens/output/cancer_data_immunofluorescence/1_image_pre_processing/cells_filtering_laboratory/img_09/01_config_default_channel_1.html\u001b[0m\n",
      "Done :)\n",
      "test_1\n",
      "dict_processing_steps {0: {'multi_otsu_thresholding': [None, 100], 'dilation': 2, 'filter_center_cells': 1024, 'fill_holes': None, 'remove_small_objects': 250, 'remove_large_objects': 15000}, 1: {'test_cas1__cas_2': {'dilation_test': 4, 'thresh_fraction_cells_discovered': 0.15, 'multi_otsu': True, 'param_erosion_cas_1': 2, 'param_dil_cas_2': 3, 'dont_consider_background': True, 'min_thresh_second_binarization': 10}, 'dilation2': 3, 'fill_holes': None, 'filter_center_cells': 1024, 'remove_small_objects': 250}, 2: {'otsu_thresholding': [None, -1], 'dilation': 2, 'fill_holes': None, 'remove_small_objects': 500, 'filter_center_cells': 1024, 'remove_large_objects': 10000}, 3: {'multi_otsu_thresholding': [None, 100], 'dilation': 2, 'filter_center_cells': 1024, 'fill_holes': None, 'remove_small_objects': 250, 'remove_large_objects': 15000}}\n",
      "\u001b[34mHTML saved at /Users/theoperochon/Projet_ens/microglial_project/project_ens/output/cancer_data_immunofluorescence/1_image_pre_processing/cells_filtering_laboratory/img_09/config_test_1_channel_1.html\u001b[0m\n",
      "Done :)\n",
      "test_2\n",
      "dict_processing_steps {0: {'test_cas1__cas_2': {'dilation_test': 4, 'thresh_fraction_cells_discovered': 0.15, 'multi_otsu': False, 'param_erosion_cas_1': 2, 'param_dil_cas_2': 4, 'dont_consider_background': True, 'min_thresh_second_binarization': 10}, 'opening': 9, 'dilation': 2, 'filter_center_cells': 1024, 'fill_holes': None, 'remove_small_objects': 400, 'remove_large_objects': 15000}, 1: {'multi_otsu_thresholding': [None, 100], 'erosion': 2, 'dilation': 4, 'filter_center_cells': 1024, 'remove_small_objects': 250}, 2: {'test_cas1__cas_2': {'dilation_test': 4, 'thresh_fraction_cells_discovered': 0.15, 'multi_otsu': True, 'param_erosion_cas_1': 2, 'param_dil_cas_2': 3, 'dont_consider_background': True, 'min_thresh_second_binarization': 10}, 'fill_holes': None, 'remove_small_objects': 200, 'filter_center_cells': 1024, 'remove_large_objects': 10000}, 3: {'test_cas1__cas_2': {'dilation_test': 4, 'thresh_fraction_cells_discovered': 0.15, 'multi_otsu': False, 'param_erosion_cas_1': 2, 'param_dil_cas_2': 4, 'dont_consider_background': True, 'min_thresh_second_binarization': 10}, 'opening': 9, 'dilation': 2, 'filter_center_cells': 1024, 'fill_holes': None, 'remove_small_objects': 400, 'remove_large_objects': 15000}}\n",
      "\u001b[34mHTML saved at /Users/theoperochon/Projet_ens/microglial_project/project_ens/output/cancer_data_immunofluorescence/1_image_pre_processing/cells_filtering_laboratory/img_09/config_test_2_channel_1.html\u001b[0m\n",
      "Done :)\n",
      "test_3\n",
      "dict_processing_steps {0: {'otsu_thresholding': [None, -1], 'dilation': 3, 'filter_center_cells': 1024, 'fill_holes': None, 'remove_small_objects': 250, 'remove_large_objects': 50000}, 1: {'multi_otsu_thresholding': [None, 25], 'opening': 1, 'dilation': 5, 'filter_center_cells': 1024, 'remove_small_objects': 300}, 2: {'test_cas1__cas_2': {'dilation_test': 4, 'thresh_fraction_cells_discovered': 0.1, 'multi_otsu': False, 'param_erosion_cas_1': 2, 'param_dil_cas_2': 5, 'dont_consider_background': True, 'min_thresh_second_binarization': 10}, 'fill_holes': None, 'remove_small_objects': 300, 'filter_center_cells': 1024, 'remove_large_objects': 50000}, 3: {'otsu_thresholding': [None, -1], 'dilation': 3, 'filter_center_cells': 1024, 'fill_holes': None, 'remove_small_objects': 250, 'remove_large_objects': 50000}}\n",
      "\u001b[34mHTML saved at /Users/theoperochon/Projet_ens/microglial_project/project_ens/output/cancer_data_immunofluorescence/1_image_pre_processing/cells_filtering_laboratory/img_09/config_test_3_channel_1.html\u001b[0m\n",
      "Done :)\n"
     ]
    }
   ],
   "source": [
    "from_image, to_image = 0,0\n",
    "image_list = [2]\n",
    "n_tiles_per_channel = 5\n",
    "channels_to_segment = [1]\n",
    "\n",
    "\n",
    "tiles_list, tiles_names  = tiles.get_tiles_to_segment(dataset_config, from_image, to_image, image_list=image_list, n_tiles_per_channel = n_tiles_per_channel)\n",
    "\n",
    "\n",
    "image_list = [9]\n",
    "n_tiles_per_channel = 5\n",
    "channels_to_segment = [1]\n",
    "segmentation.test_existing_segmentation_config_with_details(dataset_config,tiles_list, tiles_names,channels_to_segment)\n",
    "\n"
   ]
  },
  {
   "cell_type": "code",
   "execution_count": null,
   "metadata": {},
   "outputs": [],
   "source": []
  }
 ],
 "metadata": {
  "kernelspec": {
   "display_name": "base",
   "language": "python",
   "name": "python3"
  },
  "language_info": {
   "codemirror_mode": {
    "name": "ipython",
    "version": 3
   },
   "file_extension": ".py",
   "mimetype": "text/x-python",
   "name": "python",
   "nbconvert_exporter": "python",
   "pygments_lexer": "ipython3",
   "version": "3.12.3"
  },
  "orig_nbformat": 4
 },
 "nbformat": 4,
 "nbformat_minor": 2
}
