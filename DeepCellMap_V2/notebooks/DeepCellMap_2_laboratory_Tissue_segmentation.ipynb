{
 "cells": [
  {
   "attachments": {},
   "cell_type": "markdown",
   "metadata": {},
   "source": [
    "<img src=\"Images/cover_readme.png\" alt=\"Example Image\" style=\"width:1400px; height:400px;\" >"
   ]
  },
  {
   "attachments": {},
   "cell_type": "markdown",
   "metadata": {},
   "source": [
    "--- \n",
    "# **DeepCellMap Laborarory - Find best tissue segmentation adapted to each dataset and images**\n",
    "---\n",
    "\n",
    "Depending on the dataset and the type of data, tissue segmentation can be done using different steps. In this notebook, differents steps are tested. Results are saved and visualised thanks to an html file. \n",
    "\n"
   ]
  },
  {
   "cell_type": "code",
   "execution_count": 1,
   "metadata": {},
   "outputs": [
    {
     "name": "stdout",
     "output_type": "stream",
     "text": [
      "Pb importing pylibCZIrw\n",
      "Pb importing pylibCZIrw\n"
     ]
    }
   ],
   "source": [
    "# This imports your common setup code from grabber.py\n",
    "from grabber import * \n",
    "%precision 2\n",
    "%load_ext autoreload\n",
    "%autoreload 2 \n",
    "\n",
    "# import pandas as pd\n",
    "\n",
    "from config.dataset_management import take_config_from_dataset\n",
    "\n",
    "from utils.util import *\n",
    "from utils.util_fig_display import *\n",
    "from utils.util_colors_drawing import *\n",
    "\n",
    "from preprocessing import filter, slide, tiles\n",
    "\n",
    "from stat_analysis import deep_cell_map\n",
    "from segmentation_classification import segmentation,classification\n",
    "from segmentation_classification.classification import ModelClassification, segment_classify_cells_wsi\n",
    "\n",
    "%matplotlib inline \n"
   ]
  },
  {
   "attachments": {},
   "cell_type": "markdown",
   "metadata": {},
   "source": [
    "## Dataset selection "
   ]
  },
  {
   "cell_type": "code",
   "execution_count": 2,
   "metadata": {},
   "outputs": [
    {
     "data": {
      "application/vnd.jupyter.widget-view+json": {
       "model_id": "75e014185b8048b0b6d645871107b09d",
       "version_major": 2,
       "version_minor": 0
      },
      "text/plain": [
       "Dropdown(description='Select dataset:', options={'generated_rois': 'generated_rois', 'ihc_microglia_fetal_huma…"
      ]
     },
     "metadata": {},
     "output_type": "display_data"
    }
   ],
   "source": [
    "display(dataframe_dropdown)\n",
    "dataset_name = dataframe_dropdown.value"
   ]
  },
  {
   "cell_type": "code",
   "execution_count": 3,
   "metadata": {},
   "outputs": [
    {
     "name": "stdout",
     "output_type": "stream",
     "text": [
      "\u001b[34mWe are playing with the dataset: ihc_microglia_fetal_human_brain_database\u001b[0m\n"
     ]
    }
   ],
   "source": [
    "dataset_name = dataframe_dropdown.value\n",
    "dataset_config = take_config_from_dataset(dataset_name)\n",
    "print(blue(\"We are playing with the dataset: {}\".format(dataset_config.dataset_name)))\n"
   ]
  },
  {
   "attachments": {},
   "cell_type": "markdown",
   "metadata": {},
   "source": [
    "# 1. Possible steps to segment tissue\n",
    "\n",
    "Methods are all defined in filter.apply_process_from_name(). "
   ]
  },
  {
   "cell_type": "code",
   "execution_count": 4,
   "metadata": {},
   "outputs": [],
   "source": [
    "param_best_cellpose =dataset_config.param_best_cellpose\n",
    "step_possibilities = dict({\n",
    "            \"cellpose\" : param_best_cellpose,\n",
    "\n",
    "            #Binarization steps \n",
    "            \"multi_otsu_thresholding\" :  [\"dont_consider_background\", 40],\n",
    "            \"otsu_thresholding\" : None,\n",
    "            \"manual_threshold\" : 10,\n",
    "            \"rgb_threshold_based_binarization_microglia_IHC\": None,\n",
    "\n",
    "            #Morphological operations \n",
    "            \"erosion\": 2,\n",
    "            \"dilation\" : 4,\n",
    "            \"dilation2\":3,\n",
    "            \"opening\": 5,\n",
    "\n",
    "            #Other operations \n",
    "            \"fill_holes\" : None,\n",
    "            \"filter_center_cells\" : dataset_config.tile_width,\n",
    "            \"remove_small_objects\" : 150,\n",
    "            \"remove_large_objects\" : 10000,\n",
    "            \"rgb_to_eosin\" : None,\n",
    "            \"take_largest_component\" : 1,\n",
    "        })"
   ]
  },
  {
   "attachments": {},
   "cell_type": "markdown",
   "metadata": {},
   "source": [
    "# 2. Definition of the different steps\n",
    "\n",
    "The different tissue segmentation steps can be common to all the images but can also be specified for each image.  \n",
    "\n",
    "Once a good sequence of steps works for many images, the dictionnary of the different steps can be given as value to the key *default* of the parameter **dataset_config.tissue_segmentation_param** \n",
    "\n",
    "**If this shared sequence of steps doesn't work for an image N**, a new sequence can be added to the dictionnary **tissue_segmentation_param** specifying the key as *image_N*\n",
    "\n",
    "*This is shared with the tissue segmentation method* "
   ]
  },
  {
   "cell_type": "code",
   "execution_count": 12,
   "metadata": {},
   "outputs": [
    {
     "name": "stdout",
     "output_type": "stream",
     "text": [
      "\u001b[34mHTML saved at /Users/U1029063/Documents/ens_project/Code_reviewers_new_submision/output/ihc_microglia_fetal_human_brain_database/1_image_pre_processing/Tissue_filtering_laboratory/img_01/06_test_segmentation.html\u001b[0m\n"
     ]
    }
   ],
   "source": [
    "sequence_processing = dict({\n",
    "    \"manual_threshold\" : 244,\n",
    "    \"dilation\" : 4,#30\n",
    "    \"fill_holes\" : None,\n",
    "    \"remove_small_objects\" : 300\n",
    "    })\n",
    "\n",
    "\n",
    "image_list = [1]\n",
    "\n",
    "#Define segmentor\n",
    "segmentor = segmentation.ModelSegmentation(dataset_config=dataset_config, object_to_segment = \"tissue\", tissue_segmentation_param=sequence_processing)\n",
    "\n",
    "#Get images to segment \n",
    "list_images, list_images_names  = slide.get_images_to_segment(image_list,dataset_config)\n",
    "\n",
    "#Apply segmentation based on param and save results in html \n",
    "list_images_processed, list_process_names = segmentor.test_segmentation_grayscale(list_images,sequence_processing=sequence_processing)\n",
    "\n",
    "# segmentor.laboratory_segmentation_save_images(list_images_processed, list_process_names,image_list=image_list)\n",
    "segmentation.ModelSegmentation.laboratory_segmentation_save_images(dataset_config,list_images_processed, list_process_names, segmentation_type = \"Tissue\",image_list=image_list)"
   ]
  },
  {
   "attachments": {},
   "cell_type": "markdown",
   "metadata": {},
   "source": [
    "# 3. Add new segmentation steps to the configuration file and re apply \"tissue_segmentation_step\" in Notebook 1 ! \n",
    "\n",
    "Just add a new key \"image_<n_slide>\" to the dictionnary self.tissue_segmentation_param bellow \"default\" \n"
   ]
  }
 ],
 "metadata": {
  "kernelspec": {
   "display_name": "base",
   "language": "python",
   "name": "python3"
  },
  "language_info": {
   "codemirror_mode": {
    "name": "ipython",
    "version": 3
   },
   "file_extension": ".py",
   "mimetype": "text/x-python",
   "name": "python",
   "nbconvert_exporter": "python",
   "pygments_lexer": "ipython3",
   "version": "3.12.3"
  },
  "orig_nbformat": 4
 },
 "nbformat": 4,
 "nbformat_minor": 2
}
